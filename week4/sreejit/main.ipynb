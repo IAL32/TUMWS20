{
 "metadata": {
  "language_info": {
   "codemirror_mode": {
    "name": "ipython",
    "version": 3
   },
   "file_extension": ".py",
   "mimetype": "text/x-python",
   "name": "python",
   "nbconvert_exporter": "python",
   "pygments_lexer": "ipython3",
   "version": "3.7.9-final"
  },
  "orig_nbformat": 2,
  "kernelspec": {
   "name": "python3",
   "display_name": "Python 3",
   "language": "python"
  }
 },
 "nbformat": 4,
 "nbformat_minor": 2,
 "cells": [
  {
   "cell_type": "code",
   "execution_count": 2,
   "metadata": {},
   "outputs": [],
   "source": [
    "import os, sys\n",
    "currentdir = os.path.dirname(os.path.realpath(os.path.abspath(\"\")))\n",
    "scriptsdir = os.path.dirname(currentdir)\n",
    "if scriptsdir not in sys.path:\n",
    "    sys.path.append(scriptsdir)\n",
    "\n",
    "from customscripts import configuration\n",
    "from customscripts import utils\n",
    "\n",
    "# Common imports\n",
    "\n",
    "import numpy as np\n",
    "import scipy as sp\n",
    "import pandas as pd\n",
    "import seaborn as sns\n",
    "import matplotlib.pyplot as plt"
   ]
  },
  {
   "cell_type": "code",
   "execution_count": 5,
   "metadata": {},
   "outputs": [
    {
     "output_type": "execute_result",
     "data": {
      "text/plain": [
       "        Unnamed: 0                     Country  \\\n",
       "0             1741          Dominican Republic   \n",
       "1             1742          Dominican Republic   \n",
       "2             1743          Dominican Republic   \n",
       "3             1744          Dominican Republic   \n",
       "4             1745          Dominican Republic   \n",
       "...            ...                         ...   \n",
       "492790     1613411  Iran (Islamic Republic of)   \n",
       "492791     1613412                      Mexico   \n",
       "492792     1613413                  Uzbekistan   \n",
       "492793     1613414                     Algeria   \n",
       "492794     1613415                     Vanuatu   \n",
       "\n",
       "                                                Indicator    Sex  \\\n",
       "0       Predominantly breastfeeding (children aged 0 t...  Total   \n",
       "1       Predominantly breastfeeding (children aged 0 t...  Total   \n",
       "2       Predominantly breastfeeding (children aged 0 t...  Total   \n",
       "3       Predominantly breastfeeding (children aged 0 t...  Total   \n",
       "4       Predominantly breastfeeding (children aged 0 t...  Total   \n",
       "...                                                   ...    ...   \n",
       "492790             Continued breastfeeding (20-23 months)  Total   \n",
       "492791  Minimum diet diversity (children aged 6 to 23 ...  Total   \n",
       "492792  Minimum acceptable diet (children aged 6-23 mo...  Total   \n",
       "492793  Minimum meal frequency (children aged 6 to 23 ...  Total   \n",
       "492794             Continued breastfeeding (12-15 months)  Total   \n",
       "\n",
       "                Current age Residence Unit of measure TIME_PERIOD  OBS_VALUE  \\\n",
       "0         0 to 5 months old     Total               %        1986  34.300000   \n",
       "1         0 to 5 months old     Total               %        1996  32.300000   \n",
       "2         0 to 5 months old     Total               %        1999  30.600000   \n",
       "3         0 to 5 months old     Total               %        2000  27.519926   \n",
       "4         0 to 5 months old     Total               %        2002  22.287588   \n",
       "...                     ...       ...             ...         ...        ...   \n",
       "492790  20 to 23 months old     Urban               %        2010  50.500000   \n",
       "492791   6 to 23 months old     Urban               %        2015  60.000000   \n",
       "492792   6 to 23 months old     Urban               %        2017   6.400000   \n",
       "492793   6 to 23 months old     Urban               %        2012  54.100000   \n",
       "492794  12 to 15 months old     Urban               %        2007  67.600000   \n",
       "\n",
       "         Observation Status  \n",
       "0       External Reanalysis  \n",
       "1       External Reanalysis  \n",
       "2       External Reanalysis  \n",
       "3                Reanalysed  \n",
       "4                Reanalysed  \n",
       "...                     ...  \n",
       "492790             Reported  \n",
       "492791           Reanalysed  \n",
       "492792           Reanalysed  \n",
       "492793           Reanalysed  \n",
       "492794      Low reliability  \n",
       "\n",
       "[492795 rows x 10 columns]"
      ],
      "text/html": "<div>\n<style scoped>\n    .dataframe tbody tr th:only-of-type {\n        vertical-align: middle;\n    }\n\n    .dataframe tbody tr th {\n        vertical-align: top;\n    }\n\n    .dataframe thead th {\n        text-align: right;\n    }\n</style>\n<table border=\"1\" class=\"dataframe\">\n  <thead>\n    <tr style=\"text-align: right;\">\n      <th></th>\n      <th>Unnamed: 0</th>\n      <th>Country</th>\n      <th>Indicator</th>\n      <th>Sex</th>\n      <th>Current age</th>\n      <th>Residence</th>\n      <th>Unit of measure</th>\n      <th>TIME_PERIOD</th>\n      <th>OBS_VALUE</th>\n      <th>Observation Status</th>\n    </tr>\n  </thead>\n  <tbody>\n    <tr>\n      <th>0</th>\n      <td>1741</td>\n      <td>Dominican Republic</td>\n      <td>Predominantly breastfeeding (children aged 0 t...</td>\n      <td>Total</td>\n      <td>0 to 5 months old</td>\n      <td>Total</td>\n      <td>%</td>\n      <td>1986</td>\n      <td>34.300000</td>\n      <td>External Reanalysis</td>\n    </tr>\n    <tr>\n      <th>1</th>\n      <td>1742</td>\n      <td>Dominican Republic</td>\n      <td>Predominantly breastfeeding (children aged 0 t...</td>\n      <td>Total</td>\n      <td>0 to 5 months old</td>\n      <td>Total</td>\n      <td>%</td>\n      <td>1996</td>\n      <td>32.300000</td>\n      <td>External Reanalysis</td>\n    </tr>\n    <tr>\n      <th>2</th>\n      <td>1743</td>\n      <td>Dominican Republic</td>\n      <td>Predominantly breastfeeding (children aged 0 t...</td>\n      <td>Total</td>\n      <td>0 to 5 months old</td>\n      <td>Total</td>\n      <td>%</td>\n      <td>1999</td>\n      <td>30.600000</td>\n      <td>External Reanalysis</td>\n    </tr>\n    <tr>\n      <th>3</th>\n      <td>1744</td>\n      <td>Dominican Republic</td>\n      <td>Predominantly breastfeeding (children aged 0 t...</td>\n      <td>Total</td>\n      <td>0 to 5 months old</td>\n      <td>Total</td>\n      <td>%</td>\n      <td>2000</td>\n      <td>27.519926</td>\n      <td>Reanalysed</td>\n    </tr>\n    <tr>\n      <th>4</th>\n      <td>1745</td>\n      <td>Dominican Republic</td>\n      <td>Predominantly breastfeeding (children aged 0 t...</td>\n      <td>Total</td>\n      <td>0 to 5 months old</td>\n      <td>Total</td>\n      <td>%</td>\n      <td>2002</td>\n      <td>22.287588</td>\n      <td>Reanalysed</td>\n    </tr>\n    <tr>\n      <th>...</th>\n      <td>...</td>\n      <td>...</td>\n      <td>...</td>\n      <td>...</td>\n      <td>...</td>\n      <td>...</td>\n      <td>...</td>\n      <td>...</td>\n      <td>...</td>\n      <td>...</td>\n    </tr>\n    <tr>\n      <th>492790</th>\n      <td>1613411</td>\n      <td>Iran (Islamic Republic of)</td>\n      <td>Continued breastfeeding (20-23 months)</td>\n      <td>Total</td>\n      <td>20 to 23 months old</td>\n      <td>Urban</td>\n      <td>%</td>\n      <td>2010</td>\n      <td>50.500000</td>\n      <td>Reported</td>\n    </tr>\n    <tr>\n      <th>492791</th>\n      <td>1613412</td>\n      <td>Mexico</td>\n      <td>Minimum diet diversity (children aged 6 to 23 ...</td>\n      <td>Total</td>\n      <td>6 to 23 months old</td>\n      <td>Urban</td>\n      <td>%</td>\n      <td>2015</td>\n      <td>60.000000</td>\n      <td>Reanalysed</td>\n    </tr>\n    <tr>\n      <th>492792</th>\n      <td>1613413</td>\n      <td>Uzbekistan</td>\n      <td>Minimum acceptable diet (children aged 6-23 mo...</td>\n      <td>Total</td>\n      <td>6 to 23 months old</td>\n      <td>Urban</td>\n      <td>%</td>\n      <td>2017</td>\n      <td>6.400000</td>\n      <td>Reanalysed</td>\n    </tr>\n    <tr>\n      <th>492793</th>\n      <td>1613414</td>\n      <td>Algeria</td>\n      <td>Minimum meal frequency (children aged 6 to 23 ...</td>\n      <td>Total</td>\n      <td>6 to 23 months old</td>\n      <td>Urban</td>\n      <td>%</td>\n      <td>2012</td>\n      <td>54.100000</td>\n      <td>Reanalysed</td>\n    </tr>\n    <tr>\n      <th>492794</th>\n      <td>1613415</td>\n      <td>Vanuatu</td>\n      <td>Continued breastfeeding (12-15 months)</td>\n      <td>Total</td>\n      <td>12 to 15 months old</td>\n      <td>Urban</td>\n      <td>%</td>\n      <td>2007</td>\n      <td>67.600000</td>\n      <td>Low reliability</td>\n    </tr>\n  </tbody>\n</table>\n<p>492795 rows × 10 columns</p>\n</div>"
     },
     "metadata": {},
     "execution_count": 5
    }
   ],
   "source": [
    "# get_dataset_df(weekNumber, datasetFileName)\n",
    "data = utils.get_dataset_df(4, \"nutrition_unicef_cleaned\")\n",
    "data"
   ]
  },
  {
   "cell_type": "code",
   "execution_count": null,
   "metadata": {},
   "outputs": [],
   "source": []
  }
 ]
}